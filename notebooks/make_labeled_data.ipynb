{
 "cells": [
  {
   "cell_type": "code",
   "execution_count": 1,
   "metadata": {},
   "outputs": [],
   "source": [
    "import pandas as pd\n",
    "import sys\n",
    "sys.path.append('/mnt/wartmann_pe940/git/AllExons/Repository/Scripts/')\n",
    "import utility as ut\n",
    "import numpy as np\n",
    "import re"
   ]
  },
  {
   "cell_type": "code",
   "execution_count": 2,
   "metadata": {},
   "outputs": [],
   "source": [
    "root_dir = '/mnt/wartmann_pe940/git/AllExons/'\n",
    "dir_data = '/mnt/wartmann_pe940/git/AllExons/Data/datamatrix/list/dataMatrix_std.txt'\n",
    "dir_doid = '/mnt/wartmann_pe940/git/AllExons/Data/DOID_labelsList_mapping.pkl'\n",
    "data_mit = pd.read_csv(dir_data)\n",
    "doid_labels = pd.read_pickle(dir_doid)\n",
    "max_depth = 4 \n"
   ]
  },
  {
   "cell_type": "code",
   "execution_count": 3,
   "metadata": {},
   "outputs": [],
   "source": [
    "rm_me = list(data_mit.max(axis=1) > 1)\n",
    "# set exon names as index\n",
    "data_mit.set_index('exons', inplace=True, drop=False)\n",
    "# select exons with TPM >1\n",
    "data_mit = data_mit.loc[rm_me]\n",
    "# select exons with valid labeling\n",
    "data_mit = data_mit[~pd.isna(data_mit['labels']) == True]\n",
    "\n",
    "\n",
    "\n",
    "# send to preprocess (drops zeros, ambigious exons (exons annotated with multiple diseases)\n",
    "# and does max-min scaling)\n",
    "\n",
    "data_mit = ut.pre_process(data_mit)\n",
    "\n",
    "# convert label string to list\n",
    "data_mit['labels'] = data_mit['labels'].apply(ut.str_to_list)\n",
    "# list of lenghts (i.e. depth) of label list per exon\n",
    "labeling_depth = list(map(len, data_mit['labels'].values))\n",
    "\n",
    "# idx for exons with depth >= XX\n",
    "min_length = list(map(lambda x: x >= max_depth, labeling_depth))\n",
    "\n",
    "# select exons with min depth\n",
    "data_mit = data_mit[min_length]\n",
    "\n",
    "df_tree = ut.build_tree(data_mit, doid_labels)"
   ]
  },
  {
   "cell_type": "code",
   "execution_count": 4,
   "metadata": {},
   "outputs": [],
   "source": [
    "# this tree has to be pruned now to the desired subtree\n",
    "# 'disease' is the only entry on lvl 0\n",
    "# drop all lvl 1 nodes that are not XX and 'disease'\n",
    "use_this_tree = df_tree.drop(df_tree[\n",
    "    (~df_tree['label'].isin(['disease of anatomical entity','disease of metabolism'])) &\n",
    "    (df_tree['lvl'] == 1)].index)"
   ]
  },
  {
   "cell_type": "code",
   "execution_count": 5,
   "metadata": {},
   "outputs": [],
   "source": [
    "# drop all nodes below lvl 1 that have less than XX members\n",
    "use_this_tree.drop(use_this_tree[(use_this_tree['count_all'] < 200)].index, inplace=True)"
   ]
  },
  {
   "cell_type": "code",
   "execution_count": 6,
   "metadata": {},
   "outputs": [],
   "source": [
    "use_this_tree.drop(use_this_tree[use_this_tree['lvl'] > max_depth-1].index, inplace=True)"
   ]
  },
  {
   "cell_type": "code",
   "execution_count": 7,
   "metadata": {},
   "outputs": [],
   "source": [
    "# now that we removed some of the top nodes, let's remove all their children\n",
    "# starting one lvl below new root node to not remove root node\n",
    "for lvl in range(2, max_depth + 1):\n",
    "    # remove parent less nodes\n",
    "    use_this_tree.drop(use_this_tree[~use_this_tree['parent'].isin(use_this_tree['id'].values) &\n",
    "                                     (use_this_tree['lvl'] == lvl)].index, inplace=True)"
   ]
  },
  {
   "cell_type": "code",
   "execution_count": 8,
   "metadata": {},
   "outputs": [],
   "source": [
    "# remove leaf nodes w/o siblings\n",
    "number_of_sib = []\n",
    "for label in use_this_tree['label'].values:\n",
    "    # get int value of parent for given label and the number of siblings for label\n",
    "    parent = use_this_tree.loc[use_this_tree['label'] == label, 'parent'].values[0]\n",
    "    number_of_sib.append(use_this_tree[use_this_tree['parent'] == parent].shape[0])"
   ]
  },
  {
   "cell_type": "code",
   "execution_count": 9,
   "metadata": {},
   "outputs": [],
   "source": [
    "# number_of_sib if 1 it has 0 siblings, the 1 come from counting the node itself\n",
    "use_this_tree['number_of_sib'] = number_of_sib\n",
    "use_this_tree.drop(use_this_tree[(use_this_tree['number_of_sib'] < 2) &\n",
    "                                 (use_this_tree['lvl'] == max_depth-1)].index, inplace=True)"
   ]
  },
  {
   "cell_type": "code",
   "execution_count": 10,
   "metadata": {},
   "outputs": [],
   "source": [
    "# remove children less nodes from bottom up\n",
    "for lvl in range(max_depth-2, 1, -1):\n",
    "    use_this_tree.drop(use_this_tree[~use_this_tree['id'].isin(use_this_tree['parent'].values) &\n",
    "                                     (use_this_tree['lvl'] == lvl)].index, inplace=True)"
   ]
  },
  {
   "cell_type": "code",
   "execution_count": 11,
   "metadata": {},
   "outputs": [],
   "source": [
    "# reindex df such that idx corresponds to axis=1 cooridnate in label matrix\n",
    "# UWAGA:the root node (idx=0) is not a label and labels are therefor 1 indexed\n",
    "use_this_tree.drop(use_this_tree[use_this_tree['lvl'] == 0].index, inplace=True)\n",
    "use_this_tree = use_this_tree.sort_values('lvl')\n",
    "use_this_tree['idx'] = range(use_this_tree.shape[0])\n",
    "use_this_tree.set_index('idx', inplace=True)\n",
    "\n",
    "# now make sure we only have data that is labeled for this tree\n",
    "# get all the leaf nodes\n",
    "leaf_nodes = use_this_tree.loc[use_this_tree['lvl'] == max_depth-1, 'label'].values"
   ]
  },
  {
   "cell_type": "code",
   "execution_count": 12,
   "metadata": {},
   "outputs": [],
   "source": [
    "list_leaf_data = [x[max_depth-1] for x in data_mit['labels'].values]"
   ]
  },
  {
   "cell_type": "code",
   "execution_count": 13,
   "metadata": {},
   "outputs": [],
   "source": [
    "# does the exon labeling contain one of the leaf nodes?\n",
    "bool_keep_data = [True if x in leaf_nodes else False for x in list_leaf_data]\n",
    "data_mit = data_mit[bool_keep_data]\n"
   ]
  },
  {
   "cell_type": "code",
   "execution_count": 25,
   "metadata": {},
   "outputs": [],
   "source": [
    "label_matrix = np.zeros((data_mit.shape[0], use_this_tree.shape[0]))"
   ]
  },
  {
   "cell_type": "code",
   "execution_count": 26,
   "metadata": {},
   "outputs": [],
   "source": [
    "# TODO: find a way to avoid at least one loop\n",
    "\n",
    "# loop through each exon and assign labels to label_matrix\n",
    "for i, list_labels in enumerate(data_mit['labels']):\n",
    "    # loop through the list starting on the first lvl after root node\n",
    "    for label in list_labels[1:4]:\n",
    "        # get label idx\n",
    "\n",
    "        idx = use_this_tree[use_this_tree['label'] == label].index[0]\n",
    "        # add to idx-1 (shift due to root node not beign a class)\n",
    "        label_matrix[i, idx] = 1"
   ]
  },
  {
   "cell_type": "code",
   "execution_count": 27,
   "metadata": {},
   "outputs": [],
   "source": [
    "# drop meta data and hstack to datamatrix\n",
    "for_np = data_mit.drop(['labels', 'COID', 'phenString', 'DOID', 'exons'], axis=1)\n",
    "np_data_mit = np.hstack([for_np, label_matrix])"
   ]
  },
  {
   "cell_type": "code",
   "execution_count": 28,
   "metadata": {},
   "outputs": [],
   "source": [
    "np.savetxt('/mnt/wartmann_pe940/git/AllExons/Data/datamatrix/data_labeled__2_3_8.csv',\n",
    "           np_data_mit, delimiter=',')"
   ]
  },
  {
   "cell_type": "code",
   "execution_count": 20,
   "metadata": {},
   "outputs": [
    {
     "data": {
      "text/plain": [
       "(3390, 35)"
      ]
     },
     "execution_count": 20,
     "metadata": {},
     "output_type": "execute_result"
    }
   ],
   "source": [
    "data_mit.shape"
   ]
  },
  {
   "cell_type": "code",
   "execution_count": 24,
   "metadata": {},
   "outputs": [
    {
     "data": {
      "text/html": [
       "<div>\n",
       "<style scoped>\n",
       "    .dataframe tbody tr th:only-of-type {\n",
       "        vertical-align: middle;\n",
       "    }\n",
       "\n",
       "    .dataframe tbody tr th {\n",
       "        vertical-align: top;\n",
       "    }\n",
       "\n",
       "    .dataframe thead th {\n",
       "        text-align: right;\n",
       "    }\n",
       "</style>\n",
       "<table border=\"1\" class=\"dataframe\">\n",
       "  <thead>\n",
       "    <tr style=\"text-align: right;\">\n",
       "      <th></th>\n",
       "      <th>id</th>\n",
       "      <th>parent</th>\n",
       "      <th>label</th>\n",
       "      <th>count_all</th>\n",
       "      <th>lvl</th>\n",
       "      <th>number_of_sib</th>\n",
       "    </tr>\n",
       "    <tr>\n",
       "      <th>idx</th>\n",
       "      <th></th>\n",
       "      <th></th>\n",
       "      <th></th>\n",
       "      <th></th>\n",
       "      <th></th>\n",
       "      <th></th>\n",
       "    </tr>\n",
       "  </thead>\n",
       "  <tbody>\n",
       "    <tr>\n",
       "      <th>0</th>\n",
       "      <td>1</td>\n",
       "      <td>0</td>\n",
       "      <td>disease of anatomical entity</td>\n",
       "      <td>4217</td>\n",
       "      <td>1</td>\n",
       "      <td>3</td>\n",
       "    </tr>\n",
       "    <tr>\n",
       "      <th>1</th>\n",
       "      <td>71</td>\n",
       "      <td>0</td>\n",
       "      <td>disease of metabolism</td>\n",
       "      <td>1636</td>\n",
       "      <td>1</td>\n",
       "      <td>3</td>\n",
       "    </tr>\n",
       "    <tr>\n",
       "      <th>2</th>\n",
       "      <td>2</td>\n",
       "      <td>1</td>\n",
       "      <td>musculoskeletal system disease</td>\n",
       "      <td>953</td>\n",
       "      <td>2</td>\n",
       "      <td>5</td>\n",
       "    </tr>\n",
       "    <tr>\n",
       "      <th>3</th>\n",
       "      <td>11</td>\n",
       "      <td>1</td>\n",
       "      <td>nervous system disease</td>\n",
       "      <td>1551</td>\n",
       "      <td>2</td>\n",
       "      <td>5</td>\n",
       "    </tr>\n",
       "    <tr>\n",
       "      <th>4</th>\n",
       "      <td>72</td>\n",
       "      <td>71</td>\n",
       "      <td>inherited metabolic disorder</td>\n",
       "      <td>1582</td>\n",
       "      <td>2</td>\n",
       "      <td>1</td>\n",
       "    </tr>\n",
       "    <tr>\n",
       "      <th>5</th>\n",
       "      <td>12</td>\n",
       "      <td>11</td>\n",
       "      <td>central nervous system disease</td>\n",
       "      <td>738</td>\n",
       "      <td>3</td>\n",
       "      <td>2</td>\n",
       "    </tr>\n",
       "    <tr>\n",
       "      <th>6</th>\n",
       "      <td>22</td>\n",
       "      <td>2</td>\n",
       "      <td>connective tissue disease</td>\n",
       "      <td>353</td>\n",
       "      <td>3</td>\n",
       "      <td>2</td>\n",
       "    </tr>\n",
       "    <tr>\n",
       "      <th>7</th>\n",
       "      <td>30</td>\n",
       "      <td>11</td>\n",
       "      <td>sensory system disease</td>\n",
       "      <td>577</td>\n",
       "      <td>3</td>\n",
       "      <td>2</td>\n",
       "    </tr>\n",
       "    <tr>\n",
       "      <th>8</th>\n",
       "      <td>73</td>\n",
       "      <td>72</td>\n",
       "      <td>amino acid metabolic disorder</td>\n",
       "      <td>363</td>\n",
       "      <td>3</td>\n",
       "      <td>4</td>\n",
       "    </tr>\n",
       "    <tr>\n",
       "      <th>9</th>\n",
       "      <td>90</td>\n",
       "      <td>72</td>\n",
       "      <td>carbohydrate metabolic disorder</td>\n",
       "      <td>308</td>\n",
       "      <td>3</td>\n",
       "      <td>4</td>\n",
       "    </tr>\n",
       "    <tr>\n",
       "      <th>10</th>\n",
       "      <td>98</td>\n",
       "      <td>72</td>\n",
       "      <td>lysosomal storage disease</td>\n",
       "      <td>289</td>\n",
       "      <td>3</td>\n",
       "      <td>4</td>\n",
       "    </tr>\n",
       "    <tr>\n",
       "      <th>11</th>\n",
       "      <td>102</td>\n",
       "      <td>2</td>\n",
       "      <td>muscular disease</td>\n",
       "      <td>518</td>\n",
       "      <td>3</td>\n",
       "      <td>2</td>\n",
       "    </tr>\n",
       "    <tr>\n",
       "      <th>12</th>\n",
       "      <td>157</td>\n",
       "      <td>72</td>\n",
       "      <td>mitochondrial metabolism disease</td>\n",
       "      <td>244</td>\n",
       "      <td>3</td>\n",
       "      <td>4</td>\n",
       "    </tr>\n",
       "  </tbody>\n",
       "</table>\n",
       "</div>"
      ],
      "text/plain": [
       "      id parent                             label count_all lvl  number_of_sib\n",
       "idx                                                                           \n",
       "0      1      0      disease of anatomical entity      4217   1              3\n",
       "1     71      0             disease of metabolism      1636   1              3\n",
       "2      2      1    musculoskeletal system disease       953   2              5\n",
       "3     11      1            nervous system disease      1551   2              5\n",
       "4     72     71      inherited metabolic disorder      1582   2              1\n",
       "5     12     11    central nervous system disease       738   3              2\n",
       "6     22      2         connective tissue disease       353   3              2\n",
       "7     30     11            sensory system disease       577   3              2\n",
       "8     73     72     amino acid metabolic disorder       363   3              4\n",
       "9     90     72   carbohydrate metabolic disorder       308   3              4\n",
       "10    98     72         lysosomal storage disease       289   3              4\n",
       "11   102      2                  muscular disease       518   3              2\n",
       "12   157     72  mitochondrial metabolism disease       244   3              4"
      ]
     },
     "execution_count": 24,
     "metadata": {},
     "output_type": "execute_result"
    }
   ],
   "source": [
    "use_this_tree"
   ]
  },
  {
   "cell_type": "code",
   "execution_count": null,
   "metadata": {},
   "outputs": [],
   "source": []
  }
 ],
 "metadata": {
  "kernelspec": {
   "display_name": "Python 3",
   "language": "python",
   "name": "python3"
  },
  "language_info": {
   "codemirror_mode": {
    "name": "ipython",
    "version": 3
   },
   "file_extension": ".py",
   "mimetype": "text/x-python",
   "name": "python",
   "nbconvert_exporter": "python",
   "pygments_lexer": "ipython3",
   "version": "3.6.5"
  }
 },
 "nbformat": 4,
 "nbformat_minor": 2
}
